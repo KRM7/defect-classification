{
 "cells": [
  {
   "cell_type": "code",
   "execution_count": 1,
   "source": [
    "import os\r\n",
    "\r\n",
    "import tensorflow as tf\r\n",
    "from tensorflow.keras.preprocessing.image import ImageDataGenerator\r\n",
    "from tensorflow.keras import Model, Sequential\r\n",
    "from tensorflow.keras.layers import Dense\r\n",
    "from tensorflow.keras.applications import InceptionV3\r\n",
    "\r\n",
    "import pandas as pd\r\n",
    "\r\n",
    "print(\"tensorflow version: \" + str(tf.__version__))\r\n",
    "print(\"pandas version: \" + str(pd.__version__))\r\n",
    "print(\"Num GPUs Available: \", len(tf.config.list_physical_devices('GPU')))\r\n",
    "\r\n",
    "TF_CUDNN_WORKSPACE_LIMIT_IN_MB = 0"
   ],
   "outputs": [
    {
     "output_type": "stream",
     "name": "stdout",
     "text": [
      "tensorflow version: 2.6.0\n",
      "pandas version: 1.1.3\n",
      "Num GPUs Available:  1\n"
     ]
    }
   ],
   "metadata": {}
  },
  {
   "cell_type": "code",
   "execution_count": 2,
   "source": [
    "inception = InceptionV3()\r\n",
    "\r\n",
    "pmodel_in = inception.get_layer(index = 0).input\r\n",
    "pmodel_out = inception.get_layer(index = -2).output\r\n",
    "\r\n",
    "print(\"Output layer of the first part of the model:\\n\", pmodel_out)\r\n",
    "\r\n",
    "pmodel = Model(inputs = pmodel_in, outputs = pmodel_out)\r\n",
    "\r\n",
    "for layer in pmodel.layers:\r\n",
    "    layer.trainable = False"
   ],
   "outputs": [
    {
     "output_type": "stream",
     "name": "stdout",
     "text": [
      "Output layer of the first part of the model:\n",
      " KerasTensor(type_spec=TensorSpec(shape=(None, 2048), dtype=tf.float32, name=None), name='avg_pool/Mean:0', description=\"created by layer 'avg_pool'\")\n"
     ]
    }
   ],
   "metadata": {}
  },
  {
   "cell_type": "code",
   "execution_count": 3,
   "source": [
    "model = Sequential()\r\n",
    "\r\n",
    "model.add(pmodel)\r\n",
    "model.add(Dense(units = 2, activation = \"sigmoid\", input_dim = 2048))\r\n",
    "\r\n",
    "model.compile(optimizer = \"Adam\",\r\n",
    "              loss = \"binary_crossentropy\",\r\n",
    "              metrics = [\"accuracy\"])\r\n",
    "\r\n",
    "print(model.summary())"
   ],
   "outputs": [
    {
     "output_type": "stream",
     "name": "stdout",
     "text": [
      "Model: \"sequential\"\n",
      "_________________________________________________________________\n",
      "Layer (type)                 Output Shape              Param #   \n",
      "=================================================================\n",
      "model (Functional)           (None, 2048)              21802784  \n",
      "_________________________________________________________________\n",
      "dense (Dense)                (None, 2)                 4098      \n",
      "=================================================================\n",
      "Total params: 21,806,882\n",
      "Trainable params: 4,098\n",
      "Non-trainable params: 21,802,784\n",
      "_________________________________________________________________\n",
      "None\n"
     ]
    }
   ],
   "metadata": {}
  },
  {
   "cell_type": "code",
   "execution_count": 5,
   "source": [
    "data_path = \"S:\\\\source\\\\image-generator\\\\out\"\r\n",
    "\r\n",
    "df = pd.read_csv(os.path.join(data_path, \"index0.csv\"))\r\n",
    "labels = [\"pass\", \"fail\"]\r\n",
    "gen = ImageDataGenerator()\r\n",
    "\r\n",
    "training_data = gen.flow_from_dataframe(dataframe = df[:850],\r\n",
    "                                        directory = os.path.join(data_path, \"imgs\"),\r\n",
    "                                        x_col = \"Filenames\",\r\n",
    "                                        y_col = labels,\r\n",
    "                                        batch_size = 16,\r\n",
    "                                        shuffle = True,\r\n",
    "                                        class_mode = \"raw\",\r\n",
    "                                        target_size = (640,480))\r\n",
    "\r\n",
    "validation_data = gen.flow_from_dataframe(dataframe = df[850:1100],\r\n",
    "                                          directory = os.path.join(data_path, \"imgs\"),\r\n",
    "                                          x_col = \"Filenames\",\r\n",
    "                                          y_col = labels,\r\n",
    "                                          batch_size = 16,\r\n",
    "                                          shuffle = True,\r\n",
    "                                          class_mode = \"raw\",\r\n",
    "                                          target_size = (640,480))\r\n",
    "\r\n",
    "\r\n",
    "test_data = gen.flow_from_dataframe(dataframe = df[1100:],\r\n",
    "                                    directory = os.path.join(data_path, \"imgs\"),\r\n",
    "                                    x_col = \"Filenames\",\r\n",
    "                                    batch_size = 1,\r\n",
    "                                    shuffle = True,\r\n",
    "                                    class_mode = None,\r\n",
    "                                    target_size = (640,480))"
   ],
   "outputs": [
    {
     "output_type": "stream",
     "name": "stdout",
     "text": [
      "Found 849 validated image filenames.\n",
      "Found 250 validated image filenames.\n",
      "Found 100 validated image filenames.\n"
     ]
    }
   ],
   "metadata": {}
  },
  {
   "cell_type": "code",
   "execution_count": 6,
   "source": [
    "model.fit(training_data, validation_data = validation_data, epochs = 10)"
   ],
   "outputs": [
    {
     "output_type": "stream",
     "name": "stdout",
     "text": [
      "Epoch 1/10\n",
      "54/54 [==============================] - 105s 2s/step - loss: 1.1914 - accuracy: 0.6478 - val_loss: 1.2921 - val_accuracy: 0.6600\n",
      "Epoch 2/10\n",
      "54/54 [==============================] - 79s 1s/step - loss: 1.2338 - accuracy: 0.6372 - val_loss: 0.9226 - val_accuracy: 0.5440\n",
      "Epoch 3/10\n",
      "54/54 [==============================] - 79s 1s/step - loss: 0.8940 - accuracy: 0.6572 - val_loss: 0.8981 - val_accuracy: 0.5640\n",
      "Epoch 4/10\n",
      "54/54 [==============================] - 79s 1s/step - loss: 0.8480 - accuracy: 0.6631 - val_loss: 0.7869 - val_accuracy: 0.6520\n",
      "Epoch 5/10\n",
      "54/54 [==============================] - 79s 1s/step - loss: 0.9150 - accuracy: 0.6549 - val_loss: 0.8282 - val_accuracy: 0.6520\n",
      "Epoch 6/10\n",
      "54/54 [==============================] - 79s 1s/step - loss: 0.7743 - accuracy: 0.6702 - val_loss: 0.7640 - val_accuracy: 0.6320\n",
      "Epoch 7/10\n",
      "54/54 [==============================] - 79s 1s/step - loss: 0.6638 - accuracy: 0.6784 - val_loss: 0.8449 - val_accuracy: 0.6760\n",
      "Epoch 8/10\n",
      "54/54 [==============================] - 79s 1s/step - loss: 0.8788 - accuracy: 0.6714 - val_loss: 0.9672 - val_accuracy: 0.6560\n",
      "Epoch 9/10\n",
      "54/54 [==============================] - 79s 1s/step - loss: 0.7883 - accuracy: 0.6667 - val_loss: 0.7357 - val_accuracy: 0.6520\n",
      "Epoch 10/10\n",
      "54/54 [==============================] - 80s 1s/step - loss: 0.8444 - accuracy: 0.6773 - val_loss: 0.6834 - val_accuracy: 0.6440\n"
     ]
    },
    {
     "output_type": "execute_result",
     "data": {
      "text/plain": [
       "<keras.callbacks.History at 0x207511aed30>"
      ]
     },
     "metadata": {},
     "execution_count": 6
    }
   ],
   "metadata": {}
  },
  {
   "cell_type": "code",
   "execution_count": 7,
   "source": [
    "model.save(\"./model\")"
   ],
   "outputs": [
    {
     "output_type": "stream",
     "name": "stdout",
     "text": [
      "INFO:tensorflow:Assets written to: ./model\\assets\n"
     ]
    }
   ],
   "metadata": {}
  }
 ],
 "metadata": {
  "orig_nbformat": 4,
  "language_info": {
   "name": "python",
   "version": "3.8.5",
   "mimetype": "text/x-python",
   "codemirror_mode": {
    "name": "ipython",
    "version": 3
   },
   "pygments_lexer": "ipython3",
   "nbconvert_exporter": "python",
   "file_extension": ".py"
  },
  "kernelspec": {
   "name": "python3",
   "display_name": "Python 3.8.5 64-bit"
  },
  "interpreter": {
   "hash": "b3ba2566441a7c06988d0923437866b63cedc61552a5af99d1f4fb67d367b25f"
  }
 },
 "nbformat": 4,
 "nbformat_minor": 2
}